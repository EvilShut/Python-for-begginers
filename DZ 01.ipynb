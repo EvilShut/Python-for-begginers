{
  "nbformat": 4,
  "nbformat_minor": 0,
  "metadata": {
    "colab": {
      "name": "01.ipynb",
      "provenance": []
    },
    "kernelspec": {
      "name": "python3",
      "display_name": "Python 3"
    },
    "language_info": {
      "name": "python"
    }
  },
  "cells": [
    {
      "cell_type": "markdown",
      "source": [
        "1. Поработайте с переменными, создайте несколько, выведите на экран, запросите у пользователя несколько чисел и строк и сохраните в переменные, выведите на экран."
      ],
      "metadata": {
        "id": "p4MwxteNyqRi"
      }
    },
    {
      "cell_type": "code",
      "source": [
        "value01 = 42\n",
        "value02 = 99\n",
        "value03 = int(input(\"Введите переменную 3 >>> \"))\n",
        "print(value01)\n",
        "print(value02)\n",
        "sum = value01 + value02 + value03\n",
        "print(\"Сумма всех переменных = \", sum)"
      ],
      "metadata": {
        "id": "8Gf6TJYpyvMG"
      },
      "execution_count": null,
      "outputs": []
    },
    {
      "cell_type": "markdown",
      "source": [
        "2. Пользователь вводит время в секундах. Переведите время в часы, минуты и секунды и выведите в формате чч:мм:сс. Используйте форматирование строк."
      ],
      "metadata": {
        "id": "IoTWF07Ay7Vl"
      }
    },
    {
      "cell_type": "code",
      "source": [
        "time_in_sec = int(input(\"Введите время в секундах >>> \"))\n",
        "hour = time_in_sec // 3600\n",
        "min = (time_in_sec % 3600) // 60\n",
        "sec = (time_in_sec % 3600) % 60\n",
        "print(hour, \":\", min, \":\", sec)"
      ],
      "metadata": {
        "id": "T976_ZMpy9zm"
      },
      "execution_count": null,
      "outputs": []
    },
    {
      "cell_type": "markdown",
      "source": [
        "3. Узнайте у пользователя число n. Найдите сумму чисел n + nn + nnn. Например, пользователь ввёл число 3. Считаем 3 + 33 + 333 = 369."
      ],
      "metadata": {
        "id": "Woad8py9zgfJ"
      }
    },
    {
      "cell_type": "code",
      "source": [
        "n = int(input(\"Введите число n >>> \"))\n",
        "nn = n * 11\n",
        "nnn = n * 111\n",
        "print(\"Сумма чисел\", n, \"+\", nn, \"+\", nnn, \"=\", n + nn + nnn)"
      ],
      "metadata": {
        "id": "9v0u1HWVzjnf"
      },
      "execution_count": null,
      "outputs": []
    },
    {
      "cell_type": "markdown",
      "source": [
        "4. Пользователь вводит целое положительное число. Найдите самую большую цифру в числе. Для решения используйте цикл while и арифметические операции."
      ],
      "metadata": {
        "id": "VyIcamKt1PIZ"
      }
    },
    {
      "cell_type": "code",
      "source": [
        "number = int(input(\"Введите  число >>> \"))\n",
        "max_digit = -1\n",
        "while number > 0:\n",
        "    a = number % 10\n",
        "    if a >= max_digit:\n",
        "        max_digit = a\n",
        "    number = number // 10\n",
        "print(\"Наибольшая цифра в числе >>>\", max_digit)"
      ],
      "metadata": {
        "id": "N9sycAP31SD5"
      },
      "execution_count": null,
      "outputs": []
    },
    {
      "cell_type": "markdown",
      "source": [
        "5. Запросите у пользователя значения выручки и издержек фирмы. Определите, с каким финансовым результатом работает фирма (прибыль — выручка больше издержек, или убыток — издержки больше выручки). Выведите соответствующее сообщение. Если фирма отработала с прибылью, вычислите рентабельность выручки (соотношение прибыли к выручке). Далее запросите численность сотрудников фирмы и определите прибыль фирмы в расчете на одного сотрудника."
      ],
      "metadata": {
        "id": "EYh_ZdZZ2d-3"
      }
    },
    {
      "cell_type": "code",
      "source": [
        "gain = int(input(\"Введите  значение выручки >>> \"))\n",
        "costs = int(input(\"Введите  значение издержек >>> \"))\n",
        "if gain >= costs:\n",
        "    print(\"Доход составил \", gain - costs)\n",
        "    print(\"Рентабельность составила \", (gain - costs) / gain)\n",
        "    chislo_sotrudnikov = int(input(\"Введите число сотрудников >>> \"))\n",
        "    print(\"Прибыль фирмы на одного сотрудника составила \", (gain - costs) / chislo_sotrudnikov)\n",
        "else:\n",
        "    print(\"Убыток составил \", costs - gain)\n"
      ],
      "metadata": {
        "id": "fHoEzAFX2ivw"
      },
      "execution_count": null,
      "outputs": []
    },
    {
      "cell_type": "markdown",
      "source": [
        "6. Спортсмен занимается ежедневными пробежками. В первый день его результат составил a километров.  Каждый день спортсмен увеличивал результат на 10 % относительно предыдущего. Требуется определить номер дня, на который результат спортсмена составит не менее b километров. Программа должна принимать значения параметров a и b и выводить одно натуральное число — номер дня."
      ],
      "metadata": {
        "id": "vlQ14n-v3iyn"
      }
    },
    {
      "cell_type": "code",
      "source": [
        "s1 = int(input(\"Введите расстояние пробежки в первый день >>> \"))\n",
        "s2 = int(input(\"Введите требуемое расстояние пробежки  >>> \"))\n",
        "print(\"В 1 день спортсмен пробежит >>>\", s1)\n",
        "counter = 2\n",
        "while s2 > s1:\n",
        "    s1 = s1 + (0.1 * s1)\n",
        "    print(\"В\", counter, \"день спортсмен пробежит >>>\", s1)\n",
        "    counter = counter + 1\n",
        "print(\"Спортсмен будет заниматься \", counter - 1, \"дней\")"
      ],
      "metadata": {
        "id": "fGe_7guJ3n89"
      },
      "execution_count": null,
      "outputs": []
    }
  ]
}
